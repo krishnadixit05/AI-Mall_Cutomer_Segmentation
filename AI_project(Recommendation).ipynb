{
  "nbformat": 4,
  "nbformat_minor": 0,
  "metadata": {
    "colab": {
      "provenance": []
    },
    "kernelspec": {
      "name": "python3",
      "display_name": "Python 3"
    },
    "language_info": {
      "name": "python"
    }
  },
  "cells": [
    {
      "cell_type": "markdown",
      "source": [
        "##Collaborative filtering(SVD)"
      ],
      "metadata": {
        "id": "Tpo-Wcx7pnKY"
      }
    },
    {
      "cell_type": "code",
      "source": [
        "!pip uninstall -y numpy scikit-surprise\n",
        "!pip install \"numpy<2\"\n",
        "!pip install --no-cache-dir scikit-surprise"
      ],
      "metadata": {
        "colab": {
          "base_uri": "https://localhost:8080/"
        },
        "id": "F6huh3eruBPK",
        "outputId": "f1d8d130-8e82-4ff9-ad16-4f24e2d46401"
      },
      "execution_count": 1,
      "outputs": [
        {
          "output_type": "stream",
          "name": "stdout",
          "text": [
            "Found existing installation: numpy 1.25.2\n",
            "Uninstalling numpy-1.25.2:\n",
            "  Successfully uninstalled numpy-1.25.2\n",
            "Found existing installation: scikit-surprise 1.1.4\n",
            "Uninstalling scikit-surprise-1.1.4:\n",
            "  Successfully uninstalled scikit-surprise-1.1.4\n",
            "Collecting numpy<2\n",
            "  Using cached numpy-1.26.4-cp311-cp311-manylinux_2_17_x86_64.manylinux2014_x86_64.whl.metadata (61 kB)\n",
            "Using cached numpy-1.26.4-cp311-cp311-manylinux_2_17_x86_64.manylinux2014_x86_64.whl (18.3 MB)\n",
            "Installing collected packages: numpy\n",
            "\u001b[31mERROR: pip's dependency resolver does not currently take into account all the packages that are installed. This behaviour is the source of the following dependency conflicts.\n",
            "thinc 8.3.6 requires numpy<3.0.0,>=2.0.0, but you have numpy 1.26.4 which is incompatible.\u001b[0m\u001b[31m\n",
            "\u001b[0mSuccessfully installed numpy-1.26.4\n",
            "Collecting scikit-surprise\n",
            "  Downloading scikit_surprise-1.1.4.tar.gz (154 kB)\n",
            "\u001b[2K     \u001b[90m━━━━━━━━━━━━━━━━━━━━━━━━━━━━━━━━━━━━━━━\u001b[0m \u001b[32m154.4/154.4 kB\u001b[0m \u001b[31m5.4 MB/s\u001b[0m eta \u001b[36m0:00:00\u001b[0m\n",
            "\u001b[?25h  Installing build dependencies ... \u001b[?25l\u001b[?25hdone\n",
            "  Getting requirements to build wheel ... \u001b[?25l\u001b[?25hdone\n",
            "  Preparing metadata (pyproject.toml) ... \u001b[?25l\u001b[?25hdone\n",
            "Requirement already satisfied: joblib>=1.2.0 in /usr/local/lib/python3.11/dist-packages (from scikit-surprise) (1.4.2)\n",
            "Requirement already satisfied: numpy>=1.19.5 in /usr/local/lib/python3.11/dist-packages (from scikit-surprise) (1.26.4)\n",
            "Requirement already satisfied: scipy>=1.6.0 in /usr/local/lib/python3.11/dist-packages (from scikit-surprise) (1.15.2)\n",
            "Building wheels for collected packages: scikit-surprise\n",
            "  Building wheel for scikit-surprise (pyproject.toml) ... \u001b[?25l\u001b[?25hdone\n",
            "  Created wheel for scikit-surprise: filename=scikit_surprise-1.1.4-cp311-cp311-linux_x86_64.whl size=2461552 sha256=53d3e7ae83aebbbbfee2fedda3c40382834f3d08d83401eb05d1b9acedb93d93\n",
            "  Stored in directory: /tmp/pip-ephem-wheel-cache-vt6emvnl/wheels/2a/8f/6e/7e2899163e2d85d8266daab4aa1cdabec7a6c56f83c015b5af\n",
            "Successfully built scikit-surprise\n",
            "Installing collected packages: scikit-surprise\n",
            "Successfully installed scikit-surprise-1.1.4\n"
          ]
        }
      ]
    },
    {
      "cell_type": "code",
      "source": [
        "!pip uninstall -y numpy\n",
        "!pip install numpy==1.25.2"
      ],
      "metadata": {
        "colab": {
          "base_uri": "https://localhost:8080/",
          "height": 341
        },
        "id": "SZ72-3SctcJL",
        "outputId": "ff838752-a5fb-4873-b8e8-e7d80c54cd00"
      },
      "execution_count": 2,
      "outputs": [
        {
          "output_type": "stream",
          "name": "stdout",
          "text": [
            "Found existing installation: numpy 1.26.4\n",
            "Uninstalling numpy-1.26.4:\n",
            "  Successfully uninstalled numpy-1.26.4\n",
            "Collecting numpy==1.25.2\n",
            "  Using cached numpy-1.25.2-cp311-cp311-manylinux_2_17_x86_64.manylinux2014_x86_64.whl.metadata (5.6 kB)\n",
            "Using cached numpy-1.25.2-cp311-cp311-manylinux_2_17_x86_64.manylinux2014_x86_64.whl (18.2 MB)\n",
            "Installing collected packages: numpy\n",
            "\u001b[31mERROR: pip's dependency resolver does not currently take into account all the packages that are installed. This behaviour is the source of the following dependency conflicts.\n",
            "tensorflow 2.18.0 requires numpy<2.1.0,>=1.26.0, but you have numpy 1.25.2 which is incompatible.\n",
            "blosc2 3.3.2 requires numpy>=1.26, but you have numpy 1.25.2 which is incompatible.\n",
            "thinc 8.3.6 requires numpy<3.0.0,>=2.0.0, but you have numpy 1.25.2 which is incompatible.\u001b[0m\u001b[31m\n",
            "\u001b[0mSuccessfully installed numpy-1.25.2\n"
          ]
        },
        {
          "output_type": "display_data",
          "data": {
            "application/vnd.colab-display-data+json": {
              "pip_warning": {
                "packages": [
                  "numpy"
                ]
              },
              "id": "66162e9ca7a643afb81e0bb716c35fb8"
            }
          },
          "metadata": {}
        }
      ]
    },
    {
      "cell_type": "code",
      "execution_count": 3,
      "metadata": {
        "id": "H84t1qRipFxZ"
      },
      "outputs": [],
      "source": [
        "import numpy as np\n",
        "import pandas as pd\n",
        "from surprise import Dataset, Reader, SVD\n",
        "from surprise.model_selection import train_test_split\n",
        "from surprise import accuracy\n"
      ]
    },
    {
      "cell_type": "code",
      "source": [
        "# Load datasets\n",
        "malll_df = pd.read_csv('/content/malll.csv')\n",
        "\n"
      ],
      "metadata": {
        "id": "AAyGa3QMimrf"
      },
      "execution_count": 38,
      "outputs": []
    },
    {
      "cell_type": "code",
      "source": [
        "reader = Reader(rating_scale=(1, 5))\n",
        "data = Dataset.load_from_df(ratings_df[['CustomerID', 'StoreID', 'Rating']], reader)"
      ],
      "metadata": {
        "id": "m11M6cuPccvh"
      },
      "execution_count": 5,
      "outputs": []
    },
    {
      "cell_type": "code",
      "source": [
        "# Train-test split\n",
        "trainset, testset = train_test_split(data, test_size=0.2, random_state=42)"
      ],
      "metadata": {
        "id": "v8VZsBVykRq4"
      },
      "execution_count": 6,
      "outputs": []
    },
    {
      "cell_type": "code",
      "source": [
        "# Build SVD model\n",
        "svd_model = SVD()\n",
        "svd_model.fit(trainset)"
      ],
      "metadata": {
        "colab": {
          "base_uri": "https://localhost:8080/"
        },
        "id": "fZoQIYBOkUVb",
        "outputId": "5ee86ab5-9140-43f9-cd56-b49c39020454"
      },
      "execution_count": 40,
      "outputs": [
        {
          "output_type": "execute_result",
          "data": {
            "text/plain": [
              "<surprise.prediction_algorithms.matrix_factorization.SVD at 0x790340593450>"
            ]
          },
          "metadata": {},
          "execution_count": 40
        }
      ]
    },
    {
      "cell_type": "code",
      "source": [
        "# Evaluate model performance (RMSE)\n",
        "predictions = svd_model.test(testset)\n",
        "rmse = accuracy.rmse(predictions)\n",
        "print(f\"RMSE: {rmse:.2f}\")"
      ],
      "metadata": {
        "colab": {
          "base_uri": "https://localhost:8080/"
        },
        "id": "L5c5rYDJkXAh",
        "outputId": "0276303a-027e-4561-d542-31e31aabac35"
      },
      "execution_count": 41,
      "outputs": [
        {
          "output_type": "stream",
          "name": "stdout",
          "text": [
            "RMSE: 1.4851\n",
            "RMSE: 1.49\n"
          ]
        }
      ]
    },
    {
      "cell_type": "code",
      "source": [
        "# Recommendation function\n",
        "def recommend_stores(customer_id, n_recommendations=5):\n",
        "    all_stores = ratings_df['StoreID'].unique()\n",
        "    predictions = [(store, svd_model.predict(customer_id, store).est) for store in all_stores]\n",
        "    sorted_predictions = sorted(predictions, key=lambda x: x[1], reverse=True)\n",
        "    return sorted_predictions[:n_recommendations]\n"
      ],
      "metadata": {
        "id": "8wsKmtHBkbyr"
      },
      "execution_count": 42,
      "outputs": []
    },
    {
      "cell_type": "code",
      "source": [
        "# Test recommendations for a specific customer\n",
        "customer_id = 10\n",
        "recommended_stores = recommend_stores(customer_id)\n",
        "print(f\"\\nTop store recommendations for Customer {customer_id}:\")\n",
        "for store, rating in recommended_stores:\n",
        "    print(f\"Store ID: {store}, Predicted Rating: {rating:.2f}\")"
      ],
      "metadata": {
        "colab": {
          "base_uri": "https://localhost:8080/"
        },
        "id": "bP1rhpIHkgVT",
        "outputId": "289137a6-e67e-4d93-ba86-75d47f751946"
      },
      "execution_count": 43,
      "outputs": [
        {
          "output_type": "stream",
          "name": "stdout",
          "text": [
            "\n",
            "Top store recommendations for Customer 10:\n",
            "Store ID: 102, Predicted Rating: 3.60\n",
            "Store ID: 118, Predicted Rating: 3.27\n",
            "Store ID: 105, Predicted Rating: 3.24\n",
            "Store ID: 101, Predicted Rating: 3.23\n",
            "Store ID: 107, Predicted Rating: 3.20\n"
          ]
        }
      ]
    },
    {
      "cell_type": "code",
      "source": [
        "from surprise import SVD\n",
        "\n",
        "svd_model = SVD(reg_all=0.02)\n",
        "svd_model.fit(trainset)\n",
        "\n"
      ],
      "metadata": {
        "id": "oNMEi8cLkyWC",
        "colab": {
          "base_uri": "https://localhost:8080/"
        },
        "outputId": "589bd046-9944-4aab-ad6e-298250be1fb3"
      },
      "execution_count": 50,
      "outputs": [
        {
          "output_type": "execute_result",
          "data": {
            "text/plain": [
              "<surprise.prediction_algorithms.matrix_factorization.SVD at 0x7902f3e20b10>"
            ]
          },
          "metadata": {},
          "execution_count": 50
        }
      ]
    },
    {
      "cell_type": "code",
      "source": [],
      "metadata": {
        "id": "paR9w_D_j7us"
      },
      "execution_count": 50,
      "outputs": []
    },
    {
      "cell_type": "code",
      "source": [
        "from sklearn.feature_extraction.text import TfidfVectorizer\n",
        "from sklearn.metrics.pairwise import cosine_similarity"
      ],
      "metadata": {
        "id": "s7Im_PyKj7qx"
      },
      "execution_count": 51,
      "outputs": []
    },
    {
      "cell_type": "code",
      "source": [
        "# Vectorize previous purchases\n",
        "tfidf = TfidfVectorizer(stop_words='english')\n",
        "tfidf_matrix = tfidf.fit_transform(customers_df['PreviousPurchases'])"
      ],
      "metadata": {
        "id": "9owrqUwXj-ri"
      },
      "execution_count": 52,
      "outputs": []
    },
    {
      "cell_type": "code",
      "source": [
        "cos_sim = cosine_similarity(tfidf_matrix)"
      ],
      "metadata": {
        "id": "2IbZN-KtkMvg"
      },
      "execution_count": 53,
      "outputs": []
    },
    {
      "cell_type": "code",
      "source": [
        "def recommend_similar_customers(customer_id, n_recommendations=10):\n",
        "    idx = customers_df.index[customers_df['CustomerID'] == customer_id][0]\n",
        "    sim_scores = list(enumerate(cos_sim[idx]))\n",
        "    sim_scores = sorted(sim_scores, key=lambda x: x[1], reverse=True)\n",
        "    sim_indices = [i[0] for i in sim_scores[1:n_recommendations+1]]\n",
        "    return customers_df[['CustomerID', 'FavoriteStore']].iloc[sim_indices]\n",
        "\n",
        "\n",
        "customer_id = 10\n",
        "\n",
        "print(\"\\nCustomers with similar purchasing patterns:\")\n",
        "print(recommend_similar_customers(customer_id))"
      ],
      "metadata": {
        "colab": {
          "base_uri": "https://localhost:8080/"
        },
        "id": "yBGO6SpOkNtK",
        "outputId": "6d8972f4-20ba-43e8-ca57-dbc5c637175c"
      },
      "execution_count": 54,
      "outputs": [
        {
          "output_type": "stream",
          "name": "stdout",
          "text": [
            "\n",
            "Customers with similar purchasing patterns:\n",
            "     CustomerID FavoriteStore\n",
            "9            10           Gap\n",
            "10           11        Levi’s\n",
            "22           23           H&M\n",
            "24           25           H&M\n",
            "38           39          Zara\n",
            "58           59          Nike\n",
            "74           75          Nike\n",
            "84           85          Nike\n",
            "89           90          Zara\n",
            "100         101        Levi’s\n"
          ]
        }
      ]
    },
    {
      "cell_type": "code",
      "source": [
        "import matplotlib.pyplot as plt\n",
        "import numpy as np\n",
        "\n",
        "# Get recommendations for customer_id = 10\n",
        "recommendations = recommend_similar_customers(customer_id=10)\n",
        "\n",
        "\n",
        "customer_ids = recommendations['CustomerID']\n",
        "favorite_stores = recommendations['FavoriteStore']\n",
        "\n",
        "num_bars = len(customer_ids)\n",
        "colors = plt.cm.rainbow(np.linspace(0, 1, num_bars))\n",
        "\n",
        "\n",
        "plt.figure(figsize=(10, 6))\n",
        "plt.bar(customer_ids, favorite_stores, color=colors, width=1.5)  #you can adjust width for thickness\n",
        "plt.xlabel(\"Customer ID\")\n",
        "plt.ylabel(\"Favorite Store\")\n",
        "plt.title(\"Customers with Similar Purchasing Patterns\")\n",
        "plt.xticks(rotation=45, ha='right')\n",
        "plt.tight_layout()\n",
        "plt.show()"
      ],
      "metadata": {
        "colab": {
          "base_uri": "https://localhost:8080/",
          "height": 607
        },
        "id": "AzUJFrJvkRyY",
        "outputId": "81be030c-0b8a-4071-f898-76666e17004f"
      },
      "execution_count": 55,
      "outputs": [
        {
          "output_type": "display_data",
          "data": {
            "text/plain": [
              "<Figure size 1000x600 with 1 Axes>"
            ],
            "image/png": "[encoded data removed]"
          },
          "metadata": {}
        }
      ]
    },
    {
      "cell_type": "code",
      "source": [],
      "metadata": {
        "id": "4KoXYXiB1TP8"
      },
      "execution_count": null,
      "outputs": []
    },
    {
      "cell_type": "code",
      "source": [],
      "metadata": {
        "id": "dJnlT8GAz47G"
      },
      "execution_count": null,
      "outputs": []
    }
  ]
}